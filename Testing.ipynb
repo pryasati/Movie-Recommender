{
 "cells": [
  {
   "cell_type": "code",
   "execution_count": 1,
   "metadata": {},
   "outputs": [],
   "source": [
    "import numpy as np\n",
    "import pandas as pd\n",
    "import mock\n",
    "from App import App\n",
    "from sklearn.neighbors import NearestNeighbors\n",
    "import matplotlib.pyplot as plt\n",
    "from mpl_toolkits.mplot3d import Axes3D"
   ]
  },
  {
   "cell_type": "markdown",
   "metadata": {},
   "source": [
    "## Unit Test for App"
   ]
  },
  {
   "cell_type": "code",
   "execution_count": 3,
   "metadata": {},
   "outputs": [
    {
     "name": "stdout",
     "output_type": "stream",
     "text": [
      "All Passed\n"
     ]
    }
   ],
   "source": [
    "import contextlib\n",
    "with contextlib.ExitStack() as patches:\n",
    "    mock_knn = patches.enter_context(mock.patch('Knn.Knn'))\n",
    "    mock_genre = patches.enter_context(mock.patch('Genre.Genre'))\n",
    "    mock_ui = patches.enter_context(mock.patch('UI.UI'))\n",
    "    mock_su = patches.enter_context(mock.patch('Service.UserService'))\n",
    "    mock_sm = patches.enter_context(mock.patch('Service.MovieService'))\n",
    "    mock_sc = patches.enter_context(mock.patch('Service.RecommendService'))\n",
    "    mock_sr = patches.enter_context(mock.patch('Service.RatingService'))\n",
    "    mock_us = patches.enter_context(mock.patch('UserService.UserService'))\n",
    "    mock_ms = patches.enter_context(mock.patch('MovieService.MovieService'))\n",
    "    mock_cs = patches.enter_context(mock.patch('RecommendService.RecommendService'))\n",
    "    mock_rs = patches.enter_context(mock.patch('RatingService.RatingService'))\n",
    "    mock_ud = patches.enter_context(mock.patch('UserData.UserData'))\n",
    "    mock_md = patches.enter_context(mock.patch('MovieData.MovieData'))\n",
    "    mock_rd = patches.enter_context(mock.patch('RatingData.RatingData'))\n",
    "    app = App()\n",
    "    app.configure()\n",
    "    # objects are all created only once\n",
    "    mock_su.assert_called_once()\n",
    "    mock_sm.assert_called_once()\n",
    "    mock_sc.assert_called_once()\n",
    "    mock_sr.assert_called_once()\n",
    "    mock_us.assert_called_once()\n",
    "    mock_ms.assert_called_once()\n",
    "    mock_cs.assert_called_once()\n",
    "    mock_rs.assert_called_once()\n",
    "    mock_ud.assert_called_once()\n",
    "    mock_md.assert_called_once()\n",
    "    mock_rd.assert_called_once()\n",
    "    mock_ui.assert_called_once()\n",
    "    mock_genre.assert_called_once()\n",
    "    mock_knn.assert_called_once_with('correlation')\n",
    "    print(\"All Passed\")"
   ]
  },
  {
   "cell_type": "markdown",
   "metadata": {},
   "source": [
    "## Use Case 1: Creates a new app user"
   ]
  },
  {
   "cell_type": "code",
   "execution_count": 7,
   "metadata": {},
   "outputs": [],
   "source": [
    "# empty app user dataset\n",
    "df_app_user = pd.DataFrame(columns=['user_id', 'name', 'age', 'gender'])\n",
    "# instantiate app with custom dataset\n",
    "app = App()\n",
    "app.configure(df_app_user = df_app_user)"
   ]
  },
  {
   "cell_type": "code",
   "execution_count": 8,
   "metadata": {},
   "outputs": [],
   "source": [
    "# create a new user\n",
    "user = app.bs_user.create_new_user(\"Tester1\", 123, \"F\")"
   ]
  },
  {
   "cell_type": "code",
   "execution_count": 9,
   "metadata": {},
   "outputs": [
    {
     "name": "stdout",
     "output_type": "stream",
     "text": [
      "DEBUG: found app user: 944 Tester1 123 F\n"
     ]
    },
    {
     "data": {
      "text/plain": [
       "<User.User at 0x7faba271f100>"
      ]
     },
     "execution_count": 9,
     "metadata": {},
     "output_type": "execute_result"
    }
   ],
   "source": [
    "app.bs_user.find_user(user.get_id())"
   ]
  },
  {
   "cell_type": "markdown",
   "metadata": {},
   "source": [
    "## Use Case 2: User logs in as a returning app user"
   ]
  },
  {
   "cell_type": "code",
   "execution_count": 12,
   "metadata": {},
   "outputs": [],
   "source": [
    "# One app user dataset\n",
    "df_app_user = pd.DataFrame([[345, \"Testing Name\", 46, \"M\"]], columns=['user_id', 'name', 'age', 'gender'])\n",
    "# instantiate app with custom dataset\n",
    "app = App()\n",
    "app.configure(df_app_user = df_app_user)"
   ]
  },
  {
   "cell_type": "code",
   "execution_count": 13,
   "metadata": {},
   "outputs": [
    {
     "name": "stdout",
     "output_type": "stream",
     "text": [
      "DEBUG: found app user: 345 Testing Name 46 M\n"
     ]
    },
    {
     "data": {
      "text/plain": [
       "<User.User at 0x7fabbb1bc160>"
      ]
     },
     "execution_count": 13,
     "metadata": {},
     "output_type": "execute_result"
    }
   ],
   "source": [
    "app.bs_user.find_user(345)"
   ]
  },
  {
   "cell_type": "markdown",
   "metadata": {},
   "source": [
    "## Use Case 3: Logged in user asking a rating estimation for a movie"
   ]
  },
  {
   "cell_type": "markdown",
   "metadata": {},
   "source": [
    "### Test Case 3-1: User has not enough ratings to perform estimation, being asked to enter ratings for some popular movies"
   ]
  },
  {
   "cell_type": "code",
   "execution_count": 2,
   "metadata": {},
   "outputs": [],
   "source": [
    "# One app user dataset\n",
    "df_app_user = pd.DataFrame([[345, \"Testing Name\", 46, \"M\"]], columns=['user_id', 'name', 'age', 'gender'])"
   ]
  },
  {
   "cell_type": "code",
   "execution_count": 3,
   "metadata": {},
   "outputs": [],
   "source": [
    "# 3 movies for test\n",
    "df_movie = pd.DataFrame([[1, \"movie-1\", None, None, None, 0,1,0,0,0,0,0,0,0,0,0,0,0,0,0,0,0,0,0,],\n",
    "                        [2, \"movie-2\", None, None, None, 0,1,0,0,0,0,0,0,0,0,0,0,0,0,0,0,0,0,0,],\n",
    "                        [3, \"movie-3\", None, None, None, 0,1,0,0,0,0,0,0,0,0,0,0,0,0,0,0,0,0,0,]], \n",
    "                        columns = ['movie_id', 'title', 'release_date', 'video_release_date',\n",
    "                    'IMDb_URL', 'unknown', 'Action', 'Adventure', 'Animation',\n",
    "                    'Childrens', 'Comedy', 'Crime', 'Documentary', 'Drama',\n",
    "                    'Fantasy', 'Film-Noir', 'Horror', 'Musical', 'Mystery',\n",
    "                    'Romance', 'Sci-Fi', 'Thriller', 'War', 'Western'])"
   ]
  },
  {
   "cell_type": "code",
   "execution_count": 4,
   "metadata": {},
   "outputs": [],
   "source": [
    "# test rating matrix (user x movie)\n",
    "df_ratmat = pd.DataFrame([[0, 0, 0, 0,], \n",
    "                          [1, 3, 0, 2], \n",
    "                          [2, 0, 1, 0], \n",
    "                          [3, 0, 0, 0], \n",
    "                          [4, 4, 2, 2]],\n",
    "                         columns = ['user_id', '1', '2', '3',])"
   ]
  },
  {
   "cell_type": "code",
   "execution_count": 5,
   "metadata": {},
   "outputs": [],
   "source": [
    "# user has no rating\n",
    "df_app_data = pd.DataFrame(\n",
    "                    columns=['user_id', 'item_id', 'rating', 'timestamp'])"
   ]
  },
  {
   "cell_type": "code",
   "execution_count": 6,
   "metadata": {},
   "outputs": [],
   "source": [
    "app = App()\n",
    "# assume demanded 3 movie ratings\n",
    "num_of_movie_need_rating = 3\n",
    "# instantiate app with custom dataset\n",
    "app.configure(\n",
    "    num_of_movie_need_rating=num_of_movie_need_rating, \n",
    "    df_app_user=df_app_user, \n",
    "    df_movie=df_movie, \n",
    "    df_ratmat=df_ratmat,\n",
    "    df_app_data=df_app_data)"
   ]
  },
  {
   "cell_type": "code",
   "execution_count": 7,
   "metadata": {},
   "outputs": [
    {
     "data": {
      "text/html": [
       "<div>\n",
       "<style scoped>\n",
       "    .dataframe tbody tr th:only-of-type {\n",
       "        vertical-align: middle;\n",
       "    }\n",
       "\n",
       "    .dataframe tbody tr th {\n",
       "        vertical-align: top;\n",
       "    }\n",
       "\n",
       "    .dataframe thead th {\n",
       "        text-align: right;\n",
       "    }\n",
       "</style>\n",
       "<table border=\"1\" class=\"dataframe\">\n",
       "  <thead>\n",
       "    <tr style=\"text-align: right;\">\n",
       "      <th></th>\n",
       "      <th>user_id</th>\n",
       "      <th>item_id</th>\n",
       "      <th>rating</th>\n",
       "      <th>timestamp</th>\n",
       "    </tr>\n",
       "  </thead>\n",
       "  <tbody>\n",
       "  </tbody>\n",
       "</table>\n",
       "</div>"
      ],
      "text/plain": [
       "Empty DataFrame\n",
       "Columns: [user_id, item_id, rating, timestamp]\n",
       "Index: []"
      ]
     },
     "execution_count": 7,
     "metadata": {},
     "output_type": "execute_result"
    }
   ],
   "source": [
    "# no ratings are returned as expected\n",
    "app.bs_rating.get_valid_user_ratings(345)"
   ]
  },
  {
   "cell_type": "code",
   "execution_count": 7,
   "metadata": {},
   "outputs": [
    {
     "data": {
      "text/html": [
       "<div>\n",
       "<style scoped>\n",
       "    .dataframe tbody tr th:only-of-type {\n",
       "        vertical-align: middle;\n",
       "    }\n",
       "\n",
       "    .dataframe tbody tr th {\n",
       "        vertical-align: top;\n",
       "    }\n",
       "\n",
       "    .dataframe thead th {\n",
       "        text-align: right;\n",
       "    }\n",
       "</style>\n",
       "<table border=\"1\" class=\"dataframe\">\n",
       "  <thead>\n",
       "    <tr style=\"text-align: right;\">\n",
       "      <th></th>\n",
       "      <th>movie_id</th>\n",
       "      <th>title</th>\n",
       "      <th>release_date</th>\n",
       "      <th>video_release_date</th>\n",
       "      <th>IMDb_URL</th>\n",
       "      <th>unknown</th>\n",
       "      <th>Action</th>\n",
       "      <th>Adventure</th>\n",
       "      <th>Animation</th>\n",
       "      <th>Childrens</th>\n",
       "      <th>...</th>\n",
       "      <th>Fantasy</th>\n",
       "      <th>Film-Noir</th>\n",
       "      <th>Horror</th>\n",
       "      <th>Musical</th>\n",
       "      <th>Mystery</th>\n",
       "      <th>Romance</th>\n",
       "      <th>Sci-Fi</th>\n",
       "      <th>Thriller</th>\n",
       "      <th>War</th>\n",
       "      <th>Western</th>\n",
       "    </tr>\n",
       "  </thead>\n",
       "  <tbody>\n",
       "    <tr>\n",
       "      <th>0</th>\n",
       "      <td>1</td>\n",
       "      <td>movie-1</td>\n",
       "      <td>None</td>\n",
       "      <td>None</td>\n",
       "      <td>None</td>\n",
       "      <td>0</td>\n",
       "      <td>1</td>\n",
       "      <td>0</td>\n",
       "      <td>0</td>\n",
       "      <td>0</td>\n",
       "      <td>...</td>\n",
       "      <td>0</td>\n",
       "      <td>0</td>\n",
       "      <td>0</td>\n",
       "      <td>0</td>\n",
       "      <td>0</td>\n",
       "      <td>0</td>\n",
       "      <td>0</td>\n",
       "      <td>0</td>\n",
       "      <td>0</td>\n",
       "      <td>0</td>\n",
       "    </tr>\n",
       "    <tr>\n",
       "      <th>1</th>\n",
       "      <td>2</td>\n",
       "      <td>movie-2</td>\n",
       "      <td>None</td>\n",
       "      <td>None</td>\n",
       "      <td>None</td>\n",
       "      <td>0</td>\n",
       "      <td>1</td>\n",
       "      <td>0</td>\n",
       "      <td>0</td>\n",
       "      <td>0</td>\n",
       "      <td>...</td>\n",
       "      <td>0</td>\n",
       "      <td>0</td>\n",
       "      <td>0</td>\n",
       "      <td>0</td>\n",
       "      <td>0</td>\n",
       "      <td>0</td>\n",
       "      <td>0</td>\n",
       "      <td>0</td>\n",
       "      <td>0</td>\n",
       "      <td>0</td>\n",
       "    </tr>\n",
       "    <tr>\n",
       "      <th>2</th>\n",
       "      <td>3</td>\n",
       "      <td>movie-3</td>\n",
       "      <td>None</td>\n",
       "      <td>None</td>\n",
       "      <td>None</td>\n",
       "      <td>0</td>\n",
       "      <td>1</td>\n",
       "      <td>0</td>\n",
       "      <td>0</td>\n",
       "      <td>0</td>\n",
       "      <td>...</td>\n",
       "      <td>0</td>\n",
       "      <td>0</td>\n",
       "      <td>0</td>\n",
       "      <td>0</td>\n",
       "      <td>0</td>\n",
       "      <td>0</td>\n",
       "      <td>0</td>\n",
       "      <td>0</td>\n",
       "      <td>0</td>\n",
       "      <td>0</td>\n",
       "    </tr>\n",
       "  </tbody>\n",
       "</table>\n",
       "<p>3 rows × 24 columns</p>\n",
       "</div>"
      ],
      "text/plain": [
       "   movie_id    title release_date video_release_date IMDb_URL  unknown  \\\n",
       "0         1  movie-1         None               None     None        0   \n",
       "1         2  movie-2         None               None     None        0   \n",
       "2         3  movie-3         None               None     None        0   \n",
       "\n",
       "   Action  Adventure  Animation  Childrens  ...  Fantasy  Film-Noir  Horror  \\\n",
       "0       1          0          0          0  ...        0          0       0   \n",
       "1       1          0          0          0  ...        0          0       0   \n",
       "2       1          0          0          0  ...        0          0       0   \n",
       "\n",
       "   Musical  Mystery  Romance  Sci-Fi  Thriller  War  Western  \n",
       "0        0        0        0       0         0    0        0  \n",
       "1        0        0        0       0         0    0        0  \n",
       "2        0        0        0       0         0    0        0  \n",
       "\n",
       "[3 rows x 24 columns]"
      ]
     },
     "execution_count": 7,
     "metadata": {},
     "output_type": "execute_result"
    }
   ],
   "source": [
    "# get most watched movies for the user to fill in ratings\n",
    "app.bs_movie.get_most_watched_movie(345, 5)"
   ]
  },
  {
   "cell_type": "markdown",
   "metadata": {},
   "source": [
    "### Test Case 3-2: User enters some ratings but not enough, being asked for another set of movies"
   ]
  },
  {
   "cell_type": "code",
   "execution_count": 7,
   "metadata": {},
   "outputs": [
    {
     "name": "stdout",
     "output_type": "stream",
     "text": [
      "adding user rating :  345 1 3\n"
     ]
    }
   ],
   "source": [
    "# add some app user rating, rated 3 for movie 1\n",
    "app.bs_rating.add_user_rating(345, 1, 3)"
   ]
  },
  {
   "cell_type": "code",
   "execution_count": 8,
   "metadata": {},
   "outputs": [
    {
     "data": {
      "text/html": [
       "<div>\n",
       "<style scoped>\n",
       "    .dataframe tbody tr th:only-of-type {\n",
       "        vertical-align: middle;\n",
       "    }\n",
       "\n",
       "    .dataframe tbody tr th {\n",
       "        vertical-align: top;\n",
       "    }\n",
       "\n",
       "    .dataframe thead th {\n",
       "        text-align: right;\n",
       "    }\n",
       "</style>\n",
       "<table border=\"1\" class=\"dataframe\">\n",
       "  <thead>\n",
       "    <tr style=\"text-align: right;\">\n",
       "      <th></th>\n",
       "      <th>movie_id</th>\n",
       "      <th>title</th>\n",
       "      <th>release_date</th>\n",
       "      <th>video_release_date</th>\n",
       "      <th>IMDb_URL</th>\n",
       "      <th>unknown</th>\n",
       "      <th>Action</th>\n",
       "      <th>Adventure</th>\n",
       "      <th>Animation</th>\n",
       "      <th>Childrens</th>\n",
       "      <th>...</th>\n",
       "      <th>Fantasy</th>\n",
       "      <th>Film-Noir</th>\n",
       "      <th>Horror</th>\n",
       "      <th>Musical</th>\n",
       "      <th>Mystery</th>\n",
       "      <th>Romance</th>\n",
       "      <th>Sci-Fi</th>\n",
       "      <th>Thriller</th>\n",
       "      <th>War</th>\n",
       "      <th>Western</th>\n",
       "    </tr>\n",
       "  </thead>\n",
       "  <tbody>\n",
       "    <tr>\n",
       "      <th>1</th>\n",
       "      <td>2</td>\n",
       "      <td>movie-2</td>\n",
       "      <td>None</td>\n",
       "      <td>None</td>\n",
       "      <td>None</td>\n",
       "      <td>0</td>\n",
       "      <td>1</td>\n",
       "      <td>0</td>\n",
       "      <td>0</td>\n",
       "      <td>0</td>\n",
       "      <td>...</td>\n",
       "      <td>0</td>\n",
       "      <td>0</td>\n",
       "      <td>0</td>\n",
       "      <td>0</td>\n",
       "      <td>0</td>\n",
       "      <td>0</td>\n",
       "      <td>0</td>\n",
       "      <td>0</td>\n",
       "      <td>0</td>\n",
       "      <td>0</td>\n",
       "    </tr>\n",
       "    <tr>\n",
       "      <th>2</th>\n",
       "      <td>3</td>\n",
       "      <td>movie-3</td>\n",
       "      <td>None</td>\n",
       "      <td>None</td>\n",
       "      <td>None</td>\n",
       "      <td>0</td>\n",
       "      <td>1</td>\n",
       "      <td>0</td>\n",
       "      <td>0</td>\n",
       "      <td>0</td>\n",
       "      <td>...</td>\n",
       "      <td>0</td>\n",
       "      <td>0</td>\n",
       "      <td>0</td>\n",
       "      <td>0</td>\n",
       "      <td>0</td>\n",
       "      <td>0</td>\n",
       "      <td>0</td>\n",
       "      <td>0</td>\n",
       "      <td>0</td>\n",
       "      <td>0</td>\n",
       "    </tr>\n",
       "  </tbody>\n",
       "</table>\n",
       "<p>2 rows × 24 columns</p>\n",
       "</div>"
      ],
      "text/plain": [
       "   movie_id    title release_date video_release_date IMDb_URL  unknown  \\\n",
       "1         2  movie-2         None               None     None        0   \n",
       "2         3  movie-3         None               None     None        0   \n",
       "\n",
       "   Action  Adventure  Animation  Childrens  ...  Fantasy  Film-Noir  Horror  \\\n",
       "1       1          0          0          0  ...        0          0       0   \n",
       "2       1          0          0          0  ...        0          0       0   \n",
       "\n",
       "   Musical  Mystery  Romance  Sci-Fi  Thriller  War  Western  \n",
       "1        0        0        0       0         0    0        0  \n",
       "2        0        0        0       0         0    0        0  \n",
       "\n",
       "[2 rows x 24 columns]"
      ]
     },
     "execution_count": 8,
     "metadata": {},
     "output_type": "execute_result"
    }
   ],
   "source": [
    "# get most watched movies for the user to fill in ratings again, this time movie-1 is not prompted\n",
    "app.bs_movie.get_most_watched_movie(345, 5)"
   ]
  },
  {
   "cell_type": "markdown",
   "metadata": {},
   "source": [
    "## Test Case 4: User select 'recommend movie rating' function"
   ]
  },
  {
   "cell_type": "markdown",
   "metadata": {},
   "source": [
    "### Test Case 4-1: It displays movie information by movie title"
   ]
  },
  {
   "cell_type": "code",
   "execution_count": 9,
   "metadata": {},
   "outputs": [
    {
     "name": "stdout",
     "output_type": "stream",
     "text": [
      "id: 3 , title: movie-3\n"
     ]
    }
   ],
   "source": [
    "movie = app.bs_movie.get_movie_by_title(\"movie-3\")\n",
    "print(\"id:\", movie.get_id(), \", title:\", movie.get_title())"
   ]
  },
  {
   "cell_type": "markdown",
   "metadata": {},
   "source": [
    "### Test Case 4-2: Movie is not found by movie title"
   ]
  },
  {
   "cell_type": "code",
   "execution_count": 10,
   "metadata": {},
   "outputs": [
    {
     "name": "stdout",
     "output_type": "stream",
     "text": [
      "movie: None\n"
     ]
    }
   ],
   "source": [
    "movie = app.bs_movie.get_movie_by_title(\"movie-4\")\n",
    "print(\"movie:\", movie)"
   ]
  },
  {
   "cell_type": "markdown",
   "metadata": {},
   "source": [
    "### Test Case 4-3: Get Movie rating estimation"
   ]
  },
  {
   "cell_type": "code",
   "execution_count": 11,
   "metadata": {},
   "outputs": [
    {
     "data": {
      "text/plain": [
       "3.613499527564139"
      ]
     },
     "execution_count": 11,
     "metadata": {},
     "output_type": "execute_result"
    }
   ],
   "source": [
    "app.bs_recommend.recommend_rating(345, 2, 3)"
   ]
  },
  {
   "cell_type": "markdown",
   "metadata": {},
   "source": [
    "## Test Case 5: User select 'recommend movie by genre' function"
   ]
  },
  {
   "cell_type": "code",
   "execution_count": 19,
   "metadata": {},
   "outputs": [],
   "source": [
    "# 3 movies for test\n",
    "df_movie_genre = pd.DataFrame([[1, 3.3, \"movie-1\", \"Animation Childrens Comedy\"],\n",
    "                        [1, 2.1, \"movie-2\", \"Action Adult Comedy\"],\n",
    "                        [1, 4.56, \"movie-3\", \"Horror Romance\"],], \n",
    "                        columns = ['item id', 'rating', 'movie title', 'genre'])"
   ]
  },
  {
   "cell_type": "code",
   "execution_count": 20,
   "metadata": {},
   "outputs": [],
   "source": [
    "app = App()\n",
    "# instantiate app with custom dataset\n",
    "app.configure(\n",
    "    num_of_movie_need_rating=num_of_movie_need_rating, \n",
    "    df_app_user=df_app_user, \n",
    "    df_movie=df_movie, \n",
    "    df_ratmat=df_ratmat,\n",
    "    df_app_data=df_app_data,\n",
    "df_movie_genre=df_movie_genre)"
   ]
  },
  {
   "cell_type": "code",
   "execution_count": 21,
   "metadata": {},
   "outputs": [
    {
     "name": "stdout",
     "output_type": "stream",
     "text": [
      "recommended movies by genre:\n",
      "   movie title                       genre  rating\n",
      "0     movie-1  Animation Childrens Comedy     3.3\n",
      "1     movie-2         Action Adult Comedy     2.1\n"
     ]
    },
    {
     "data": {
      "text/html": [
       "<div>\n",
       "<style scoped>\n",
       "    .dataframe tbody tr th:only-of-type {\n",
       "        vertical-align: middle;\n",
       "    }\n",
       "\n",
       "    .dataframe tbody tr th {\n",
       "        vertical-align: top;\n",
       "    }\n",
       "\n",
       "    .dataframe thead th {\n",
       "        text-align: right;\n",
       "    }\n",
       "</style>\n",
       "<table border=\"1\" class=\"dataframe\">\n",
       "  <thead>\n",
       "    <tr style=\"text-align: right;\">\n",
       "      <th></th>\n",
       "      <th>movie title</th>\n",
       "      <th>genre</th>\n",
       "      <th>rating</th>\n",
       "    </tr>\n",
       "  </thead>\n",
       "  <tbody>\n",
       "    <tr>\n",
       "      <th>0</th>\n",
       "      <td>movie-1</td>\n",
       "      <td>Animation Childrens Comedy</td>\n",
       "      <td>3.3</td>\n",
       "    </tr>\n",
       "    <tr>\n",
       "      <th>1</th>\n",
       "      <td>movie-2</td>\n",
       "      <td>Action Adult Comedy</td>\n",
       "      <td>2.1</td>\n",
       "    </tr>\n",
       "  </tbody>\n",
       "</table>\n",
       "</div>"
      ],
      "text/plain": [
       "  movie title                       genre  rating\n",
       "0     movie-1  Animation Childrens Comedy     3.3\n",
       "1     movie-2         Action Adult Comedy     2.1"
      ]
     },
     "execution_count": 21,
     "metadata": {},
     "output_type": "execute_result"
    }
   ],
   "source": [
    "app.bs_recommend.recommend_movie_by_genre(3, 3)"
   ]
  },
  {
   "cell_type": "markdown",
   "metadata": {},
   "source": [
    "# Validate rating recommendation function"
   ]
  },
  {
   "cell_type": "markdown",
   "metadata": {},
   "source": [
    "### Create a set of testing datasets for 4 users and 3 movies."
   ]
  },
  {
   "cell_type": "code",
   "execution_count": 8,
   "metadata": {},
   "outputs": [
    {
     "data": {
      "text/html": [
       "<div>\n",
       "<style scoped>\n",
       "    .dataframe tbody tr th:only-of-type {\n",
       "        vertical-align: middle;\n",
       "    }\n",
       "\n",
       "    .dataframe tbody tr th {\n",
       "        vertical-align: top;\n",
       "    }\n",
       "\n",
       "    .dataframe thead th {\n",
       "        text-align: right;\n",
       "    }\n",
       "</style>\n",
       "<table border=\"1\" class=\"dataframe\">\n",
       "  <thead>\n",
       "    <tr style=\"text-align: right;\">\n",
       "      <th></th>\n",
       "      <th>movie_id</th>\n",
       "      <th>title</th>\n",
       "      <th>release_date</th>\n",
       "      <th>video_release_date</th>\n",
       "      <th>IMDb_URL</th>\n",
       "      <th>unknown</th>\n",
       "      <th>Action</th>\n",
       "      <th>Adventure</th>\n",
       "      <th>Animation</th>\n",
       "      <th>Childrens</th>\n",
       "      <th>...</th>\n",
       "      <th>Fantasy</th>\n",
       "      <th>Film-Noir</th>\n",
       "      <th>Horror</th>\n",
       "      <th>Musical</th>\n",
       "      <th>Mystery</th>\n",
       "      <th>Romance</th>\n",
       "      <th>Sci-Fi</th>\n",
       "      <th>Thriller</th>\n",
       "      <th>War</th>\n",
       "      <th>Western</th>\n",
       "    </tr>\n",
       "  </thead>\n",
       "  <tbody>\n",
       "    <tr>\n",
       "      <th>0</th>\n",
       "      <td>1</td>\n",
       "      <td>movie-1</td>\n",
       "      <td>None</td>\n",
       "      <td>None</td>\n",
       "      <td>None</td>\n",
       "      <td>0</td>\n",
       "      <td>1</td>\n",
       "      <td>0</td>\n",
       "      <td>0</td>\n",
       "      <td>0</td>\n",
       "      <td>...</td>\n",
       "      <td>0</td>\n",
       "      <td>0</td>\n",
       "      <td>0</td>\n",
       "      <td>0</td>\n",
       "      <td>0</td>\n",
       "      <td>0</td>\n",
       "      <td>0</td>\n",
       "      <td>0</td>\n",
       "      <td>0</td>\n",
       "      <td>0</td>\n",
       "    </tr>\n",
       "    <tr>\n",
       "      <th>1</th>\n",
       "      <td>2</td>\n",
       "      <td>movie-2</td>\n",
       "      <td>None</td>\n",
       "      <td>None</td>\n",
       "      <td>None</td>\n",
       "      <td>0</td>\n",
       "      <td>1</td>\n",
       "      <td>0</td>\n",
       "      <td>0</td>\n",
       "      <td>0</td>\n",
       "      <td>...</td>\n",
       "      <td>0</td>\n",
       "      <td>0</td>\n",
       "      <td>0</td>\n",
       "      <td>0</td>\n",
       "      <td>0</td>\n",
       "      <td>0</td>\n",
       "      <td>0</td>\n",
       "      <td>0</td>\n",
       "      <td>0</td>\n",
       "      <td>0</td>\n",
       "    </tr>\n",
       "    <tr>\n",
       "      <th>2</th>\n",
       "      <td>3</td>\n",
       "      <td>movie-3</td>\n",
       "      <td>None</td>\n",
       "      <td>None</td>\n",
       "      <td>None</td>\n",
       "      <td>0</td>\n",
       "      <td>1</td>\n",
       "      <td>0</td>\n",
       "      <td>0</td>\n",
       "      <td>0</td>\n",
       "      <td>...</td>\n",
       "      <td>0</td>\n",
       "      <td>0</td>\n",
       "      <td>0</td>\n",
       "      <td>0</td>\n",
       "      <td>0</td>\n",
       "      <td>0</td>\n",
       "      <td>0</td>\n",
       "      <td>0</td>\n",
       "      <td>0</td>\n",
       "      <td>0</td>\n",
       "    </tr>\n",
       "  </tbody>\n",
       "</table>\n",
       "<p>3 rows × 24 columns</p>\n",
       "</div>"
      ],
      "text/plain": [
       "   movie_id    title release_date video_release_date IMDb_URL  unknown  \\\n",
       "0         1  movie-1         None               None     None        0   \n",
       "1         2  movie-2         None               None     None        0   \n",
       "2         3  movie-3         None               None     None        0   \n",
       "\n",
       "   Action  Adventure  Animation  Childrens  ...  Fantasy  Film-Noir  Horror  \\\n",
       "0       1          0          0          0  ...        0          0       0   \n",
       "1       1          0          0          0  ...        0          0       0   \n",
       "2       1          0          0          0  ...        0          0       0   \n",
       "\n",
       "   Musical  Mystery  Romance  Sci-Fi  Thriller  War  Western  \n",
       "0        0        0        0       0         0    0        0  \n",
       "1        0        0        0       0         0    0        0  \n",
       "2        0        0        0       0         0    0        0  \n",
       "\n",
       "[3 rows x 24 columns]"
      ]
     },
     "execution_count": 8,
     "metadata": {},
     "output_type": "execute_result"
    }
   ],
   "source": [
    "df_movie = pd.DataFrame([[1, \"movie-1\", None, None, None, 0,1,0,0,0,0,0,0,0,0,0,0,0,0,0,0,0,0,0,],\n",
    "                        [2, \"movie-2\", None, None, None, 0,1,0,0,0,0,0,0,0,0,0,0,0,0,0,0,0,0,0,],\n",
    "                        [3, \"movie-3\", None, None, None, 0,1,0,0,0,0,0,0,0,0,0,0,0,0,0,0,0,0,0,]], \n",
    "                        columns = ['movie_id', 'title', 'release_date', 'video_release_date',\n",
    "                    'IMDb_URL', 'unknown', 'Action', 'Adventure', 'Animation',\n",
    "                    'Childrens', 'Comedy', 'Crime', 'Documentary', 'Drama',\n",
    "                    'Fantasy', 'Film-Noir', 'Horror', 'Musical', 'Mystery',\n",
    "                    'Romance', 'Sci-Fi', 'Thriller', 'War', 'Western'])\n",
    "df_movie"
   ]
  },
  {
   "cell_type": "code",
   "execution_count": 84,
   "metadata": {},
   "outputs": [
    {
     "data": {
      "text/html": [
       "<div>\n",
       "<style scoped>\n",
       "    .dataframe tbody tr th:only-of-type {\n",
       "        vertical-align: middle;\n",
       "    }\n",
       "\n",
       "    .dataframe tbody tr th {\n",
       "        vertical-align: top;\n",
       "    }\n",
       "\n",
       "    .dataframe thead th {\n",
       "        text-align: right;\n",
       "    }\n",
       "</style>\n",
       "<table border=\"1\" class=\"dataframe\">\n",
       "  <thead>\n",
       "    <tr style=\"text-align: right;\">\n",
       "      <th></th>\n",
       "      <th>1</th>\n",
       "      <th>2</th>\n",
       "      <th>3</th>\n",
       "    </tr>\n",
       "    <tr>\n",
       "      <th>user_id</th>\n",
       "      <th></th>\n",
       "      <th></th>\n",
       "      <th></th>\n",
       "    </tr>\n",
       "  </thead>\n",
       "  <tbody>\n",
       "    <tr>\n",
       "      <th>0</th>\n",
       "      <td>0</td>\n",
       "      <td>0</td>\n",
       "      <td>0</td>\n",
       "    </tr>\n",
       "    <tr>\n",
       "      <th>1</th>\n",
       "      <td>3</td>\n",
       "      <td>0</td>\n",
       "      <td>2</td>\n",
       "    </tr>\n",
       "    <tr>\n",
       "      <th>2</th>\n",
       "      <td>0</td>\n",
       "      <td>1</td>\n",
       "      <td>0</td>\n",
       "    </tr>\n",
       "    <tr>\n",
       "      <th>3</th>\n",
       "      <td>0</td>\n",
       "      <td>0</td>\n",
       "      <td>0</td>\n",
       "    </tr>\n",
       "    <tr>\n",
       "      <th>4</th>\n",
       "      <td>4</td>\n",
       "      <td>2</td>\n",
       "      <td>2</td>\n",
       "    </tr>\n",
       "  </tbody>\n",
       "</table>\n",
       "</div>"
      ],
      "text/plain": [
       "         1  2  3\n",
       "user_id         \n",
       "0        0  0  0\n",
       "1        3  0  2\n",
       "2        0  1  0\n",
       "3        0  0  0\n",
       "4        4  2  2"
      ]
     },
     "execution_count": 84,
     "metadata": {},
     "output_type": "execute_result"
    }
   ],
   "source": [
    "# test rating matrix (user x movie)\n",
    "df_ratmat = pd.DataFrame([[0, 0, 0, 0,], \n",
    "                          [1, 3, 0, 2], \n",
    "                          [2, 0, 1, 0], \n",
    "                          [3, 0, 0, 0], \n",
    "                          [4, 4, 2, 2]],\n",
    "                         columns = ['user_id', '1', '2', '3',])\n",
    "df_ratmat = df_ratmat.set_index(\"user_id\")\n",
    "df_ratmat"
   ]
  },
  {
   "cell_type": "code",
   "execution_count": 85,
   "metadata": {},
   "outputs": [
    {
     "data": {
      "image/png": "[encoded data removed]",
      "text/plain": [
       "<Figure size 432x288 with 1 Axes>"
      ]
     },
     "metadata": {
      "needs_background": "light"
     },
     "output_type": "display_data"
    }
   ],
   "source": [
    "U, V, W = zip(np.array(df_ratmat[1:5].T))\n",
    "X, Y, Z = zip(np.zeros([3,4], dtype=float))\n",
    "fig = plt.figure()\n",
    "ax = fig.add_subplot(111, projection='3d')\n",
    "ax.quiver(X, Y, Z, U, V, W)\n",
    "ax.set_xlim([0, 5])\n",
    "ax.set_ylim([0, 5])\n",
    "ax.set_zlim([0, 5])\n",
    "plt.show()"
   ]
  },
  {
   "cell_type": "markdown",
   "metadata": {},
   "source": [
    "#### By using cosine similarity, user 1(3, 0, 2) is close to user 4 (4, 2, 2) and user 2 (0, 1, 0) is close to user 4 "
   ]
  },
  {
   "cell_type": "markdown",
   "metadata": {},
   "source": [
    "### Use cosine distance metric for finding closest users at K=1"
   ]
  },
  {
   "cell_type": "code",
   "execution_count": 86,
   "metadata": {},
   "outputs": [],
   "source": [
    "app = App()\n",
    "app.configure(knn_sim_metric=\"cosine\",df_movie=df_movie,df_ratmat=df_ratmat)"
   ]
  },
  {
   "cell_type": "code",
   "execution_count": 87,
   "metadata": {
    "scrolled": true
   },
   "outputs": [
    {
     "name": "stdout",
     "output_type": "stream",
     "text": [
      "user_id: 2 , movie_id: 1 , n_neighbor: 1\n",
      "user_with_movie_rating:\n",
      "          1  2  3\n",
      "user_id         \n",
      "1        3  0  2\n",
      "4        4  2  2\n",
      "app user ratings: [[0 1 0]]\n",
      "found knn neighbors (distance, index): (array([[0.59175171]]), array([[1]]))\n",
      "index: 1 , user_id: 4 , rating: 4 , score: 0.6282386844688339\n",
      "estimated rating: 4.0\n"
     ]
    },
    {
     "data": {
      "text/plain": [
       "4.0"
      ]
     },
     "execution_count": 87,
     "metadata": {},
     "output_type": "execute_result"
    }
   ],
   "source": [
    "# estimate rating by user_id = 2, movie_id = 1, K = 1, expected user 4 is close one\n",
    "app.bs_recommend.recommend_rating(2, 1, 1)"
   ]
  },
  {
   "cell_type": "code",
   "execution_count": 88,
   "metadata": {},
   "outputs": [
    {
     "name": "stdout",
     "output_type": "stream",
     "text": [
      "user_id: 1 , movie_id: 1 , n_neighbor: 1\n",
      "user_with_movie_rating:\n",
      "          1  2  3\n",
      "user_id         \n",
      "4        4  2  2\n",
      "app user ratings: [[3 0 2]]\n",
      "found knn neighbors (distance, index): (array([[0.09417837]]), array([[0]]))\n",
      "index: 0 , user_id: 4 , rating: 4 , score: 0.9139277698815436\n",
      "estimated rating: 4.0\n"
     ]
    },
    {
     "data": {
      "text/plain": [
       "4.0"
      ]
     },
     "execution_count": 88,
     "metadata": {},
     "output_type": "execute_result"
    }
   ],
   "source": [
    "# estimate rating by user_id = 1, movie_id = 1, K = 1, expected user 4 is close one\n",
    "app.bs_recommend.recommend_rating(1, 1, 1)"
   ]
  },
  {
   "cell_type": "code",
   "execution_count": 89,
   "metadata": {},
   "outputs": [
    {
     "name": "stdout",
     "output_type": "stream",
     "text": [
      "user_id: 4 , movie_id: 1 , n_neighbor: 1\n",
      "user_with_movie_rating:\n",
      "          1  2  3\n",
      "user_id         \n",
      "1        3  0  2\n",
      "app user ratings: [[4 2 2]]\n",
      "found knn neighbors (distance, index): (array([[0.09417837]]), array([[0]]))\n",
      "index: 0 , user_id: 1 , rating: 3 , score: 0.9139277698815436\n",
      "estimated rating: 3.0\n"
     ]
    },
    {
     "data": {
      "text/plain": [
       "3.0"
      ]
     },
     "execution_count": 89,
     "metadata": {},
     "output_type": "execute_result"
    }
   ],
   "source": [
    "# estimate rating by user_id = 4, movie_id = 1, K = 1, expected user 1 is close one\n",
    "app.bs_recommend.recommend_rating(4, 1, 1)"
   ]
  },
  {
   "cell_type": "markdown",
   "metadata": {},
   "source": [
    "### Test euclidean distance metric at K = 1, user 1(3, 0, 2) is close to user 4 (4, 2, 2) and user 2 (0, 1, 0) is close to user 1 "
   ]
  },
  {
   "cell_type": "code",
   "execution_count": 92,
   "metadata": {},
   "outputs": [],
   "source": [
    "app = App()\n",
    "app.configure(knn_sim_metric=\"euclidean\",df_movie=df_movie,df_ratmat=df_ratmat)"
   ]
  },
  {
   "cell_type": "code",
   "execution_count": 96,
   "metadata": {},
   "outputs": [
    {
     "name": "stdout",
     "output_type": "stream",
     "text": [
      "user_id: 2 , movie_id: 1 , n_neighbor: 1\n",
      "user_with_movie_rating:\n",
      "          1  2  3\n",
      "user_id         \n",
      "1        3  0  2\n",
      "4        4  2  2\n",
      "app user ratings: [[0 1 0]]\n",
      "found knn neighbors (distance, index): (array([[3.74165739]]), array([[0]]))\n",
      "index: 0 , user_id: 1 , rating: 3 , score: 0.21089672205953397\n",
      "estimated rating: 3.0000000000000004\n"
     ]
    },
    {
     "data": {
      "text/plain": [
       "3.0000000000000004"
      ]
     },
     "execution_count": 96,
     "metadata": {},
     "output_type": "execute_result"
    }
   ],
   "source": [
    "# estimate rating by user_id = 2, movie_id = 1, K = 1, expected user 1 is close one\n",
    "app.bs_recommend.recommend_rating(2, 1, 1)"
   ]
  },
  {
   "cell_type": "code",
   "execution_count": 97,
   "metadata": {},
   "outputs": [
    {
     "name": "stdout",
     "output_type": "stream",
     "text": [
      "user_id: 1 , movie_id: 1 , n_neighbor: 1\n",
      "user_with_movie_rating:\n",
      "          1  2  3\n",
      "user_id         \n",
      "4        4  2  2\n",
      "app user ratings: [[3 0 2]]\n",
      "found knn neighbors (distance, index): (array([[2.23606798]]), array([[0]]))\n",
      "index: 0 , user_id: 4 , rating: 4 , score: 0.3090169943749474\n",
      "estimated rating: 4.0\n"
     ]
    },
    {
     "data": {
      "text/plain": [
       "4.0"
      ]
     },
     "execution_count": 97,
     "metadata": {},
     "output_type": "execute_result"
    }
   ],
   "source": [
    "# estimate rating by user_id = 1, movie_id = 1, K = 1, expected user 4 is close one\n",
    "app.bs_recommend.recommend_rating(1, 1, 1)"
   ]
  },
  {
   "cell_type": "code",
   "execution_count": 98,
   "metadata": {},
   "outputs": [
    {
     "name": "stdout",
     "output_type": "stream",
     "text": [
      "user_id: 4 , movie_id: 1 , n_neighbor: 1\n",
      "user_with_movie_rating:\n",
      "          1  2  3\n",
      "user_id         \n",
      "1        3  0  2\n",
      "app user ratings: [[4 2 2]]\n",
      "found knn neighbors (distance, index): (array([[2.23606798]]), array([[0]]))\n",
      "index: 0 , user_id: 1 , rating: 3 , score: 0.3090169943749474\n",
      "estimated rating: 3.0\n"
     ]
    },
    {
     "data": {
      "text/plain": [
       "3.0"
      ]
     },
     "execution_count": 98,
     "metadata": {},
     "output_type": "execute_result"
    }
   ],
   "source": [
    "# estimate rating by user_id = 4, movie_id = 1, K = 1, expected user 1 is close one\n",
    "app.bs_recommend.recommend_rating(4, 1, 1)"
   ]
  },
  {
   "cell_type": "markdown",
   "metadata": {},
   "source": [
    "### Use cosine distance metric for finding closest users at K=2"
   ]
  },
  {
   "cell_type": "code",
   "execution_count": 99,
   "metadata": {},
   "outputs": [],
   "source": [
    "app = App()\n",
    "app.configure(knn_sim_metric=\"cosine\",df_movie=df_movie,df_ratmat=df_ratmat)"
   ]
  },
  {
   "cell_type": "code",
   "execution_count": 108,
   "metadata": {},
   "outputs": [
    {
     "name": "stdout",
     "output_type": "stream",
     "text": [
      "user_id: 2 , movie_id: 1 , n_neighbor: 2\n",
      "user_with_movie_rating:\n",
      "          1  2  3\n",
      "user_id         \n",
      "1        3  0  2\n",
      "4        4  2  2\n",
      "app user ratings: [[0 1 0]]\n",
      "found knn neighbors (distance, index): (array([[1.5       , 1.94491118]]), array([[1, 0]]))\n",
      "index: 1 , user_id: 4 , rating: 4 , score: 0.4\n",
      "index: 0 , user_id: 1 , rating: 3 , score: 0.33956881482016193\n",
      "estimated rating: 3.5408556877797315\n"
     ]
    },
    {
     "data": {
      "text/plain": [
       "3.5408556877797315"
      ]
     },
     "execution_count": 108,
     "metadata": {},
     "output_type": "execute_result"
    }
   ],
   "source": [
    "# estimate rating by user_id = 2, movie_id = 1, K = 2, expected both are close one\n",
    "app.bs_recommend.recommend_rating(2, 1, 2)"
   ]
  },
  {
   "cell_type": "code",
   "execution_count": 102,
   "metadata": {},
   "outputs": [
    {
     "name": "stdout",
     "output_type": "stream",
     "text": [
      "user_id: 1 , movie_id: 1 , n_neighbor: 2\n",
      "user_with_movie_rating:\n",
      "          1  2  3\n",
      "user_id         \n",
      "4        4  2  2\n",
      "app user ratings: [[3 0 2]]\n",
      "found knn neighbors (distance, index): (array([[0.09417837]]), array([[0]]))\n",
      "index: 0 , user_id: 4 , rating: 4 , score: 0.9139277698815436\n",
      "estimated rating: 4.0\n"
     ]
    },
    {
     "data": {
      "text/plain": [
       "4.0"
      ]
     },
     "execution_count": 102,
     "metadata": {},
     "output_type": "execute_result"
    }
   ],
   "source": [
    "# estimate rating by user_id = 1, movie_id = 1, K = 2, expected user 4 is close one\n",
    "app.bs_recommend.recommend_rating(1, 1, 2)"
   ]
  },
  {
   "cell_type": "markdown",
   "metadata": {},
   "source": [
    "#### User 1 doesn't have rating for movie 1, thus skipped in neighbor list"
   ]
  },
  {
   "cell_type": "code",
   "execution_count": 103,
   "metadata": {},
   "outputs": [
    {
     "name": "stdout",
     "output_type": "stream",
     "text": [
      "user_id: 4 , movie_id: 1 , n_neighbor: 2\n",
      "user_with_movie_rating:\n",
      "          1  2  3\n",
      "user_id         \n",
      "1        3  0  2\n",
      "app user ratings: [[4 2 2]]\n",
      "found knn neighbors (distance, index): (array([[0.09417837]]), array([[0]]))\n",
      "index: 0 , user_id: 1 , rating: 3 , score: 0.9139277698815436\n",
      "estimated rating: 3.0\n"
     ]
    },
    {
     "data": {
      "text/plain": [
       "3.0"
      ]
     },
     "execution_count": 103,
     "metadata": {},
     "output_type": "execute_result"
    }
   ],
   "source": [
    "# estimate rating by user_id = 4, movie_id = 1, K = 2, expected user 1 is close one\n",
    "app.bs_recommend.recommend_rating(4, 1, 2)"
   ]
  },
  {
   "cell_type": "markdown",
   "metadata": {},
   "source": [
    "### Use correlation distance metric for finding closest users at K=2"
   ]
  },
  {
   "cell_type": "code",
   "execution_count": 104,
   "metadata": {},
   "outputs": [],
   "source": [
    "app = App()\n",
    "app.configure(knn_sim_metric=\"correlation\",df_movie=df_movie,df_ratmat=df_ratmat)"
   ]
  },
  {
   "cell_type": "code",
   "execution_count": 106,
   "metadata": {},
   "outputs": [
    {
     "name": "stdout",
     "output_type": "stream",
     "text": [
      "user_id: 2 , movie_id: 1 , n_neighbor: 2\n",
      "user_with_movie_rating:\n",
      "          1  2  3\n",
      "user_id         \n",
      "1        3  0  2\n",
      "4        4  2  2\n",
      "app user ratings: [[0 1 0]]\n",
      "found knn neighbors (distance, index): (array([[1.5       , 1.94491118]]), array([[1, 0]]))\n",
      "index: 1 , user_id: 4 , rating: 4 , score: 0.4\n",
      "index: 0 , user_id: 1 , rating: 3 , score: 0.33956881482016193\n",
      "estimated rating: 3.5408556877797315\n"
     ]
    },
    {
     "data": {
      "text/plain": [
       "3.5408556877797315"
      ]
     },
     "execution_count": 106,
     "metadata": {},
     "output_type": "execute_result"
    }
   ],
   "source": [
    "# estimate rating by user_id = 2, movie_id = 1, K = 2, expected both are close one\n",
    "app.bs_recommend.recommend_rating(2, 1, 2)"
   ]
  },
  {
   "cell_type": "code",
   "execution_count": 109,
   "metadata": {},
   "outputs": [
    {
     "name": "stdout",
     "output_type": "stream",
     "text": [
      "user_id: 1 , movie_id: 1 , n_neighbor: 2\n",
      "user_with_movie_rating:\n",
      "          1  2  3\n",
      "user_id         \n",
      "4        4  2  2\n",
      "app user ratings: [[3 0 2]]\n",
      "found knn neighbors (distance, index): (array([[0.24407105]]), array([[0]]))\n",
      "index: 0 , user_id: 4 , rating: 4 , score: 0.8038126092553827\n",
      "estimated rating: 4.0\n"
     ]
    },
    {
     "data": {
      "text/plain": [
       "4.0"
      ]
     },
     "execution_count": 109,
     "metadata": {},
     "output_type": "execute_result"
    }
   ],
   "source": [
    "# estimate rating by user_id = 1, movie_id = 1, K = 2, expected user 4 is close one\n",
    "app.bs_recommend.recommend_rating(1, 1, 2)"
   ]
  },
  {
   "cell_type": "code",
   "execution_count": 110,
   "metadata": {},
   "outputs": [
    {
     "name": "stdout",
     "output_type": "stream",
     "text": [
      "user_id: 4 , movie_id: 1 , n_neighbor: 2\n",
      "user_with_movie_rating:\n",
      "          1  2  3\n",
      "user_id         \n",
      "1        3  0  2\n",
      "app user ratings: [[4 2 2]]\n",
      "found knn neighbors (distance, index): (array([[0.24407105]]), array([[0]]))\n",
      "index: 0 , user_id: 1 , rating: 3 , score: 0.8038126092553827\n",
      "estimated rating: 3.0\n"
     ]
    },
    {
     "data": {
      "text/plain": [
       "3.0"
      ]
     },
     "execution_count": 110,
     "metadata": {},
     "output_type": "execute_result"
    }
   ],
   "source": [
    "# estimate rating by user_id = 4, movie_id = 1, K = 2, expected user 1 is close one\n",
    "app.bs_recommend.recommend_rating(4, 1, 2)"
   ]
  }
 ],
 "metadata": {
  "kernelspec": {
   "display_name": "Python 3",
   "language": "python",
   "name": "python3"
  },
  "language_info": {
   "codemirror_mode": {
    "name": "ipython",
    "version": 3
   },
   "file_extension": ".py",
   "mimetype": "text/x-python",
   "name": "python",
   "nbconvert_exporter": "python",
   "pygments_lexer": "ipython3",
   "version": "3.8.5"
  }
 },
 "nbformat": 4,
 "nbformat_minor": 4
}
