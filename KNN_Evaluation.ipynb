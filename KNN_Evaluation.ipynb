{
 "cells": [
  {
   "cell_type": "markdown",
   "metadata": {},
   "source": [
    "## Metrics comparison and finding idea K for Knn\n",
    "### The core feature of movie rating recommendation is user-based collaborative filteration engine. It leverages on KNN algorithm to find K closest users based on their rating values on other movies and estimates rating by calculating weighted average from their rating values.\n",
    "### In order to determine right distance metric type and K value to be used in the KNN algorithm in systematic approach, I ran a series of MAE calculations by using following test script which instantiates the app and injects various number of K value and distance metric configuration. Then, it loops through all the rating value for every combination of user and movie, and calculates MAE value overall. Note that it only select 5% those rating points to reduce overall runtime.    "
   ]
  },
  {
   "cell_type": "code",
   "execution_count": 1,
   "metadata": {},
   "outputs": [],
   "source": [
    "import sklearn\n",
    "import pandas as pd\n",
    "import numpy as np\n",
    "import random\n",
    "import matplotlib.pyplot as plt\n",
    "%matplotlib inline\n",
    "from App import App"
   ]
  },
  {
   "cell_type": "code",
   "execution_count": 2,
   "metadata": {},
   "outputs": [],
   "source": [
    "df_ratmat = pd.read_csv(\n",
    "            \"movielens/Movielens-02/data_matrix.csv\", index_col=0)\n",
    "ratmat = np.mat(df_ratmat)"
   ]
  },
  {
   "cell_type": "code",
   "execution_count": 3,
   "metadata": {},
   "outputs": [],
   "source": [
    "def test_dataset(app, dataMat, K):\n",
    "    total_errors = 0.0\n",
    "    total_count = 0\n",
    "    number_of_items = np.shape(dataMat)[1]\n",
    "    for user in range(len(dataMat)):\n",
    "        for item in range(number_of_items):\n",
    "            rating = dataMat[user, item]\n",
    "            if rating == 0:\n",
    "                continue\n",
    "            # user id is 1 based, but dataset has extra record of user_id = 0\n",
    "            # movie id is 1-based\n",
    "            estimatedRating = app.bs_recommend.recommend_rating(user, item + 1, K)\n",
    "            total_errors += abs(estimatedRating - rating)\n",
    "            total_count += 1\n",
    "    MAE = total_errors / total_count\n",
    "    print('Mean Absoloute Error for K=', K, ' : ', MAE)\n",
    "    return MAE"
   ]
  },
  {
   "cell_type": "code",
   "execution_count": 4,
   "metadata": {},
   "outputs": [],
   "source": [
    "def find_ideal_K(app, dataMat):\n",
    "    maes = []\n",
    "    for k in range(1,21):\n",
    "        maes.append(test_dataset(app, dataMat, k))\n",
    "    plt.figure(figsize=(10,2))\n",
    "    plt.plot(range(1,21),maes,color='blue', linestyle='dashed', \n",
    "             marker='o',markerfacecolor='red', markersize=10)\n",
    "    plt.title('MAE vs. K Value')\n",
    "    plt.xlabel('K')\n",
    "    plt.ylabel('MAE')\n",
    "    print(\"Minimum MAE:\",min(maes),\"at K =\",maes.index(min(maes)) + 1)"
   ]
  },
  {
   "cell_type": "markdown",
   "metadata": {},
   "source": [
    "#### Expedite evaluation performance, clear out some randomly selected ratings. Note that actual rating dataset is not affected since it's contained inside App object. "
   ]
  },
  {
   "cell_type": "code",
   "execution_count": 5,
   "metadata": {},
   "outputs": [],
   "source": [
    "from random import random\n",
    "# seeded based on realtime clock\n",
    "n_row = ratmat.shape[0]\n",
    "n_col = ratmat.shape[1]\n",
    "for user in range(n_row):\n",
    "    for item in range(n_col):\n",
    "        rating = ratmat[user, item]\n",
    "        if rating == 0:\n",
    "            continue\n",
    "        # take 5% of rating data\n",
    "        if random() >= 0.05:\n",
    "            ratmat[user, item] = 0.0"
   ]
  },
  {
   "cell_type": "markdown",
   "metadata": {},
   "source": [
    "### Cosine distance metric"
   ]
  },
  {
   "cell_type": "code",
   "execution_count": 6,
   "metadata": {},
   "outputs": [],
   "source": [
    "# load instance with real data, similarity metric = cosine\n",
    "app = App()\n",
    "app.configure(knn_sim_metric=\"cosine\")"
   ]
  },
  {
   "cell_type": "code",
   "execution_count": 7,
   "metadata": {},
   "outputs": [
    {
     "name": "stdout",
     "output_type": "stream",
     "text": [
      "Mean Absoloute Error for K= 1  :  0.9710378117457763\n",
      "Mean Absoloute Error for K= 2  :  0.8765226941345803\n",
      "Mean Absoloute Error for K= 3  :  0.8470397730799245\n",
      "Mean Absoloute Error for K= 4  :  0.8326583450380534\n",
      "Mean Absoloute Error for K= 5  :  0.8193878314963194\n",
      "Mean Absoloute Error for K= 6  :  0.8117893213882154\n",
      "Mean Absoloute Error for K= 7  :  0.8078122793731218\n",
      "Mean Absoloute Error for K= 8  :  0.803830583764848\n",
      "Mean Absoloute Error for K= 9  :  0.8010698643145272\n",
      "Mean Absoloute Error for K= 10  :  0.7991664747865166\n",
      "Mean Absoloute Error for K= 11  :  0.7958976328397263\n",
      "Mean Absoloute Error for K= 12  :  0.7947446532634113\n",
      "Mean Absoloute Error for K= 13  :  0.7941016258800035\n",
      "Mean Absoloute Error for K= 14  :  0.7927660722989021\n",
      "Mean Absoloute Error for K= 15  :  0.7925123326944467\n",
      "Mean Absoloute Error for K= 16  :  0.7910885206042387\n",
      "Mean Absoloute Error for K= 17  :  0.7903145261040284\n",
      "Mean Absoloute Error for K= 18  :  0.7896506706895702\n",
      "Mean Absoloute Error for K= 19  :  0.7900563002764138\n",
      "Mean Absoloute Error for K= 20  :  0.7892852661573294\n",
      "Minimum MAE: 0.7892852661573294 at K = 20\n"
     ]
    },
    {
     "data": {
      "image/png": "[encoded data removed]",
      "text/plain": [
       "<Figure size 720x144 with 1 Axes>"
      ]
     },
     "metadata": {
      "needs_background": "light"
     },
     "output_type": "display_data"
    }
   ],
   "source": [
    "find_ideal_K(app, ratmat)"
   ]
  },
  {
   "cell_type": "markdown",
   "metadata": {},
   "source": [
    "#### Ideal number could be around 10"
   ]
  },
  {
   "cell_type": "markdown",
   "metadata": {},
   "source": [
    "### Euclidean metric"
   ]
  },
  {
   "cell_type": "code",
   "execution_count": 6,
   "metadata": {},
   "outputs": [],
   "source": [
    "# load instance with real data, similarity metric = euclidean\n",
    "app = App()\n",
    "app.configure(knn_sim_metric=\"euclidean\")"
   ]
  },
  {
   "cell_type": "code",
   "execution_count": 7,
   "metadata": {},
   "outputs": [
    {
     "name": "stdout",
     "output_type": "stream",
     "text": [
      "Mean Absoloute Error for K= 1  :  1.025179856115108\n",
      "Mean Absoloute Error for K= 2  :  0.9378885295587762\n",
      "Mean Absoloute Error for K= 3  :  0.8952806546040882\n",
      "Mean Absoloute Error for K= 4  :  0.8726542365226528\n",
      "Mean Absoloute Error for K= 5  :  0.8549552660221978\n",
      "Mean Absoloute Error for K= 6  :  0.8523569956032481\n",
      "Mean Absoloute Error for K= 7  :  0.8442040331330986\n",
      "Mean Absoloute Error for K= 8  :  0.8405467289020756\n",
      "Mean Absoloute Error for K= 9  :  0.8359682086875458\n",
      "Mean Absoloute Error for K= 10  :  0.8318837540864488\n",
      "Mean Absoloute Error for K= 11  :  0.8284985314992015\n",
      "Mean Absoloute Error for K= 12  :  0.8248926901498134\n",
      "Mean Absoloute Error for K= 13  :  0.8223575441215483\n",
      "Mean Absoloute Error for K= 14  :  0.8221743943662453\n",
      "Mean Absoloute Error for K= 15  :  0.8206532890147247\n",
      "Mean Absoloute Error for K= 16  :  0.8205724344563793\n",
      "Mean Absoloute Error for K= 17  :  0.8195822021971064\n",
      "Mean Absoloute Error for K= 18  :  0.819185871093309\n",
      "Mean Absoloute Error for K= 19  :  0.8190293755711705\n",
      "Mean Absoloute Error for K= 20  :  0.8178490903194892\n",
      "Minimum MAE: 0.8178490903194892 at K = 20\n"
     ]
    },
    {
     "data": {
      "image/png": "[encoded data removed]",
      "text/plain": [
       "<Figure size 720x144 with 1 Axes>"
      ]
     },
     "metadata": {
      "needs_background": "light"
     },
     "output_type": "display_data"
    }
   ],
   "source": [
    "find_ideal_K(app, ratmat)"
   ]
  },
  {
   "cell_type": "markdown",
   "metadata": {},
   "source": [
    "### Pearson correlation metric"
   ]
  },
  {
   "cell_type": "code",
   "execution_count": 14,
   "metadata": {},
   "outputs": [],
   "source": [
    "# load instance with real data, similarity metric = pearson correlation\n",
    "app = App()\n",
    "app.configure(knn_sim_metric=\"correlation\")"
   ]
  },
  {
   "cell_type": "code",
   "execution_count": 15,
   "metadata": {},
   "outputs": [
    {
     "name": "stdout",
     "output_type": "stream",
     "text": [
      "Mean Absoloute Error for K= 1  :  0.9583249039045114\n",
      "Mean Absoloute Error for K= 2  :  0.8774232256015583\n",
      "Mean Absoloute Error for K= 3  :  0.8525691172201892\n",
      "Mean Absoloute Error for K= 4  :  0.838480402862594\n",
      "Mean Absoloute Error for K= 5  :  0.8277774437846569\n",
      "Mean Absoloute Error for K= 6  :  0.8203415647198389\n",
      "Mean Absoloute Error for K= 7  :  0.8115064416591217\n",
      "Mean Absoloute Error for K= 8  :  0.8067767108647264\n",
      "Mean Absoloute Error for K= 9  :  0.8046151865227777\n",
      "Mean Absoloute Error for K= 10  :  0.8029638844021081\n",
      "Mean Absoloute Error for K= 11  :  0.7993218029605805\n",
      "Mean Absoloute Error for K= 12  :  0.7982422647842495\n",
      "Mean Absoloute Error for K= 13  :  0.7971919587420124\n",
      "Mean Absoloute Error for K= 14  :  0.7955407662094411\n",
      "Mean Absoloute Error for K= 15  :  0.7954418200968084\n",
      "Mean Absoloute Error for K= 16  :  0.7956506021229611\n",
      "Mean Absoloute Error for K= 17  :  0.7941960381975182\n",
      "Mean Absoloute Error for K= 18  :  0.7923780252910361\n",
      "Mean Absoloute Error for K= 19  :  0.7923185743529879\n",
      "Mean Absoloute Error for K= 20  :  0.7909617155795275\n",
      "Minimum MAE: 0.7909617155795275 at K = 20\n"
     ]
    },
    {
     "data": {
      "image/png": "[encoded data removed]",
      "text/plain": [
       "<Figure size 720x144 with 1 Axes>"
      ]
     },
     "metadata": {
      "needs_background": "light"
     },
     "output_type": "display_data"
    }
   ],
   "source": [
    "find_ideal_K(app, ratmat)"
   ]
  },
  {
   "cell_type": "markdown",
   "metadata": {},
   "source": [
    "#### Ideal number could be about K = 10 and metric = 'correlation'"
   ]
  },
  {
   "cell_type": "markdown",
   "metadata": {},
   "source": [
    "## Finding optimal minimum number of ratings required for a user to estimate reliably \n",
    "### MAE comparison is an immediate idea on this purpose again. I setup following test steps to achieve the evaluation goal.\n",
    "### a) For each user in the dataset\n",
    "### b) Iterate over a range of numbers from 1 to its total number of ratings that user has\n",
    "### c) randomly select and use only that number of ratings to estimate against all the movies for those rated but not used in this calculation (here I can limit by fixed number of cases to reduce overall runtime)\n",
    "### d) compare average MAE values for each number of ratings used"
   ]
  },
  {
   "cell_type": "code",
   "execution_count": 5,
   "metadata": {},
   "outputs": [],
   "source": [
    "# load instance with real data, similarity metric = pearson correlation\n",
    "app = App()\n",
    "app.configure(knn_sim_metric=\"correlation\")"
   ]
  },
  {
   "cell_type": "code",
   "execution_count": 13,
   "metadata": {},
   "outputs": [],
   "source": [
    "def find_minimum_N_rating_needed(app, dataMat, K):\n",
    "    n_items = np.shape(dataMat)[1]\n",
    "    total_errors = [0.0 for i in range(n_items)]\n",
    "    total_count = [0 for i in range(n_items)]\n",
    "    for user in range(len(dataMat)):\n",
    "        uv = np.copy(dataMat[user])\n",
    "        rated = np.nonzero(uv)[1]\n",
    "        copy_rated = np.copy(rated)\n",
    "        # skip user with rated one or less movie\n",
    "        if len(rated) <= 1: \n",
    "            continue\n",
    "        #print(\"user:\", user, \", vector:\", uv)\n",
    "        num_rating = len(rated)\n",
    "        #print(\"num_rating:\", num_rating)\n",
    "        for n in range(num_rating, 0, -1):\n",
    "            #print(n, end =\" \")\n",
    "            # limit N rating upto 200 ratings\n",
    "            if n <= 200:\n",
    "                count = 0\n",
    "                for movie in copy_rated:\n",
    "                    if movie in rated:\n",
    "                        # only estimate for rated but not in current vector\n",
    "                        continue\n",
    "                    if count > 10 or random.random() >= 0.2:\n",
    "                        # only test 20% or 10 cases for runtime benefit\n",
    "                        continue\n",
    "                    rating = dataMat[user, movie]\n",
    "                    # user id is 1 based, but dataset has extra record of user_id = 0\n",
    "                    # movie id is 1-based\n",
    "                    count += 1\n",
    "                    estimatedRating = app.bs_recommend.recommend_rating(user, movie + 1, K, uv)\n",
    "                    total_errors[n] += abs(estimatedRating - rating)\n",
    "                    total_count[n] += 1\n",
    "            # randomly remove 1 rating\n",
    "            idx = random.randint(0, n - 1)\n",
    "            uv[0, rated[idx]] = 0\n",
    "            rated = np.delete(rated, [idx])\n",
    "        #print()\n",
    "    print('Mean Absoloute Error for K=', K)\n",
    "    maes = []\n",
    "    for i in range(n_items):\n",
    "        if total_count[i] == 0:\n",
    "            continue\n",
    "        MAE = total_errors[i] / total_count[i]\n",
    "        print('Mean Absoloute Error for n_rating=', i, ' : ', MAE)\n",
    "        maes.append((i, MAE))\n",
    "    plt.figure(figsize=(10,2))\n",
    "    m = [x[1] for x in maes]\n",
    "    plt.plot(range(1,len(maes)+1),m,color='blue', linestyle='dashed', \n",
    "             marker='o',markerfacecolor='red', markersize=10)\n",
    "    plt.title('MAE vs. Number of Ratings')\n",
    "    plt.xlabel('Number of Ratings')\n",
    "    plt.ylabel('MAE')\n",
    "    print(\"Minimum MAE:\",min(m),\"at n ratings =\",maes[m.index(min(m))][0])"
   ]
  },
  {
   "cell_type": "code",
   "execution_count": 14,
   "metadata": {
    "scrolled": true
   },
   "outputs": [
    {
     "name": "stdout",
     "output_type": "stream",
     "text": [
      "Mean Absoloute Error for K= 10\n",
      "Mean Absoloute Error for n_rating= 1  :  0.8496129067738422\n",
      "Mean Absoloute Error for n_rating= 2  :  0.8399260464424527\n",
      "Mean Absoloute Error for n_rating= 3  :  0.8487879043578515\n",
      "Mean Absoloute Error for n_rating= 4  :  0.8340780765376408\n",
      "Mean Absoloute Error for n_rating= 5  :  0.8332761401408164\n",
      "Mean Absoloute Error for n_rating= 6  :  0.835121245565285\n",
      "Mean Absoloute Error for n_rating= 7  :  0.8417996169970576\n",
      "Mean Absoloute Error for n_rating= 8  :  0.8257112518868056\n",
      "Mean Absoloute Error for n_rating= 9  :  0.8291496970645245\n",
      "Mean Absoloute Error for n_rating= 10  :  0.8351328601705321\n",
      "Mean Absoloute Error for n_rating= 11  :  0.8296453939124488\n",
      "Mean Absoloute Error for n_rating= 12  :  0.8370875347746729\n",
      "Mean Absoloute Error for n_rating= 13  :  0.8332828708133235\n",
      "Mean Absoloute Error for n_rating= 14  :  0.8208558024032728\n",
      "Mean Absoloute Error for n_rating= 15  :  0.8298579921414102\n",
      "Mean Absoloute Error for n_rating= 16  :  0.8290171434553568\n",
      "Mean Absoloute Error for n_rating= 17  :  0.8229280845804245\n",
      "Mean Absoloute Error for n_rating= 18  :  0.8258061367965228\n",
      "Mean Absoloute Error for n_rating= 19  :  0.8274604587623248\n",
      "Mean Absoloute Error for n_rating= 20  :  0.8138949599874407\n",
      "Mean Absoloute Error for n_rating= 21  :  0.8120195662191491\n",
      "Mean Absoloute Error for n_rating= 22  :  0.8093484105449277\n",
      "Mean Absoloute Error for n_rating= 23  :  0.8051474335937467\n",
      "Mean Absoloute Error for n_rating= 24  :  0.8172658584542524\n",
      "Mean Absoloute Error for n_rating= 25  :  0.8178086191418819\n",
      "Mean Absoloute Error for n_rating= 26  :  0.8145653600091938\n",
      "Mean Absoloute Error for n_rating= 27  :  0.8260890617356883\n",
      "Mean Absoloute Error for n_rating= 28  :  0.8124404860477801\n",
      "Mean Absoloute Error for n_rating= 29  :  0.8143958380598837\n",
      "Mean Absoloute Error for n_rating= 30  :  0.8094867636083616\n",
      "Mean Absoloute Error for n_rating= 31  :  0.8159185122292566\n",
      "Mean Absoloute Error for n_rating= 32  :  0.8007735636217554\n",
      "Mean Absoloute Error for n_rating= 33  :  0.8196909709440675\n",
      "Mean Absoloute Error for n_rating= 34  :  0.8105285695904548\n",
      "Mean Absoloute Error for n_rating= 35  :  0.8016299637638082\n",
      "Mean Absoloute Error for n_rating= 36  :  0.8102904280230971\n",
      "Mean Absoloute Error for n_rating= 37  :  0.8090101543492938\n",
      "Mean Absoloute Error for n_rating= 38  :  0.8002976257664334\n",
      "Mean Absoloute Error for n_rating= 39  :  0.8069397637746157\n",
      "Mean Absoloute Error for n_rating= 40  :  0.8058912164843851\n",
      "Mean Absoloute Error for n_rating= 41  :  0.807267583648909\n",
      "Mean Absoloute Error for n_rating= 42  :  0.8192680849374485\n",
      "Mean Absoloute Error for n_rating= 43  :  0.7952832341472645\n",
      "Mean Absoloute Error for n_rating= 44  :  0.7910702257522927\n",
      "Mean Absoloute Error for n_rating= 45  :  0.7999987647696402\n",
      "Mean Absoloute Error for n_rating= 46  :  0.7947175606558023\n",
      "Mean Absoloute Error for n_rating= 47  :  0.7907838304127939\n",
      "Mean Absoloute Error for n_rating= 48  :  0.8002283525354037\n",
      "Mean Absoloute Error for n_rating= 49  :  0.807464497748966\n",
      "Mean Absoloute Error for n_rating= 50  :  0.799070802387202\n",
      "Mean Absoloute Error for n_rating= 51  :  0.7934125219959076\n",
      "Mean Absoloute Error for n_rating= 52  :  0.7912308606882411\n",
      "Mean Absoloute Error for n_rating= 53  :  0.7991329933485481\n",
      "Mean Absoloute Error for n_rating= 54  :  0.8092258754262944\n",
      "Mean Absoloute Error for n_rating= 55  :  0.7930532413560932\n",
      "Mean Absoloute Error for n_rating= 56  :  0.8078649771480391\n",
      "Mean Absoloute Error for n_rating= 57  :  0.8110698410875221\n",
      "Mean Absoloute Error for n_rating= 58  :  0.8021733751468054\n",
      "Mean Absoloute Error for n_rating= 59  :  0.8013772662405138\n",
      "Mean Absoloute Error for n_rating= 60  :  0.8008573775154816\n",
      "Mean Absoloute Error for n_rating= 61  :  0.7973995095443143\n",
      "Mean Absoloute Error for n_rating= 62  :  0.7854247635616831\n",
      "Mean Absoloute Error for n_rating= 63  :  0.7897137399239007\n",
      "Mean Absoloute Error for n_rating= 64  :  0.7852985997913116\n",
      "Mean Absoloute Error for n_rating= 65  :  0.7979419423318869\n",
      "Mean Absoloute Error for n_rating= 66  :  0.7862103302966945\n",
      "Mean Absoloute Error for n_rating= 67  :  0.7943257125573769\n",
      "Mean Absoloute Error for n_rating= 68  :  0.7982705819934048\n",
      "Mean Absoloute Error for n_rating= 69  :  0.7850198835215721\n",
      "Mean Absoloute Error for n_rating= 70  :  0.7838213624053856\n",
      "Mean Absoloute Error for n_rating= 71  :  0.7983828922607601\n",
      "Mean Absoloute Error for n_rating= 72  :  0.7735517513882937\n",
      "Mean Absoloute Error for n_rating= 73  :  0.7953105954072524\n",
      "Mean Absoloute Error for n_rating= 74  :  0.7954561623859079\n",
      "Mean Absoloute Error for n_rating= 75  :  0.7918370215689745\n",
      "Mean Absoloute Error for n_rating= 76  :  0.7875936604620387\n",
      "Mean Absoloute Error for n_rating= 77  :  0.7729875868456016\n",
      "Mean Absoloute Error for n_rating= 78  :  0.7836543351699645\n",
      "Mean Absoloute Error for n_rating= 79  :  0.7901223228266522\n",
      "Mean Absoloute Error for n_rating= 80  :  0.7838585388129967\n",
      "Mean Absoloute Error for n_rating= 81  :  0.7908723892256355\n",
      "Mean Absoloute Error for n_rating= 82  :  0.7918507351011923\n",
      "Mean Absoloute Error for n_rating= 83  :  0.7988862949136869\n",
      "Mean Absoloute Error for n_rating= 84  :  0.7812797251638367\n",
      "Mean Absoloute Error for n_rating= 85  :  0.777925215021814\n",
      "Mean Absoloute Error for n_rating= 86  :  0.7800182874093563\n",
      "Mean Absoloute Error for n_rating= 87  :  0.7869415178286822\n",
      "Mean Absoloute Error for n_rating= 88  :  0.7959378362167125\n",
      "Mean Absoloute Error for n_rating= 89  :  0.7859637869376659\n",
      "Mean Absoloute Error for n_rating= 90  :  0.7999675476029434\n",
      "Mean Absoloute Error for n_rating= 91  :  0.7856656621091345\n",
      "Mean Absoloute Error for n_rating= 92  :  0.7770280777821997\n",
      "Mean Absoloute Error for n_rating= 93  :  0.781611927216697\n",
      "Mean Absoloute Error for n_rating= 94  :  0.7756287542687128\n",
      "Mean Absoloute Error for n_rating= 95  :  0.7852480300235695\n",
      "Mean Absoloute Error for n_rating= 96  :  0.7643497181243548\n",
      "Mean Absoloute Error for n_rating= 97  :  0.7803838170612492\n",
      "Mean Absoloute Error for n_rating= 98  :  0.7839104073490428\n",
      "Mean Absoloute Error for n_rating= 99  :  0.7971036130353631\n",
      "Mean Absoloute Error for n_rating= 100  :  0.7792764765737654\n",
      "Mean Absoloute Error for n_rating= 101  :  0.8061105398732882\n",
      "Mean Absoloute Error for n_rating= 102  :  0.7909911414337754\n",
      "Mean Absoloute Error for n_rating= 103  :  0.7802338287680182\n",
      "Mean Absoloute Error for n_rating= 104  :  0.793572471991676\n",
      "Mean Absoloute Error for n_rating= 105  :  0.7830959908900784\n",
      "Mean Absoloute Error for n_rating= 106  :  0.812534136235953\n",
      "Mean Absoloute Error for n_rating= 107  :  0.7923552613604612\n",
      "Mean Absoloute Error for n_rating= 108  :  0.78978319243129\n",
      "Mean Absoloute Error for n_rating= 109  :  0.7893865745884052\n",
      "Mean Absoloute Error for n_rating= 110  :  0.7807071484158964\n",
      "Mean Absoloute Error for n_rating= 111  :  0.7805103883305571\n",
      "Mean Absoloute Error for n_rating= 112  :  0.7779316732853632\n",
      "Mean Absoloute Error for n_rating= 113  :  0.7846906235024091\n",
      "Mean Absoloute Error for n_rating= 114  :  0.7918011084615069\n",
      "Mean Absoloute Error for n_rating= 115  :  0.7790114761987093\n",
      "Mean Absoloute Error for n_rating= 116  :  0.8025686202261684\n",
      "Mean Absoloute Error for n_rating= 117  :  0.7954352907267161\n",
      "Mean Absoloute Error for n_rating= 118  :  0.7901165698896966\n",
      "Mean Absoloute Error for n_rating= 119  :  0.797620508089409\n",
      "Mean Absoloute Error for n_rating= 120  :  0.7844198934086493\n",
      "Mean Absoloute Error for n_rating= 121  :  0.8082588652971888\n",
      "Mean Absoloute Error for n_rating= 122  :  0.788028538863273\n",
      "Mean Absoloute Error for n_rating= 123  :  0.7880488676374504\n",
      "Mean Absoloute Error for n_rating= 124  :  0.7981937748194491\n",
      "Mean Absoloute Error for n_rating= 125  :  0.7722188481649555\n",
      "Mean Absoloute Error for n_rating= 126  :  0.7864054649601945\n",
      "Mean Absoloute Error for n_rating= 127  :  0.7916243870272713\n",
      "Mean Absoloute Error for n_rating= 128  :  0.7861048389179878\n",
      "Mean Absoloute Error for n_rating= 129  :  0.7986078008364004\n",
      "Mean Absoloute Error for n_rating= 130  :  0.7862619859481711\n",
      "Mean Absoloute Error for n_rating= 131  :  0.7869572466443029\n",
      "Mean Absoloute Error for n_rating= 132  :  0.786334499359888\n",
      "Mean Absoloute Error for n_rating= 133  :  0.7785745069001653\n",
      "Mean Absoloute Error for n_rating= 134  :  0.7715429232928029\n",
      "Mean Absoloute Error for n_rating= 135  :  0.787060626224511\n",
      "Mean Absoloute Error for n_rating= 136  :  0.779699067602839\n",
      "Mean Absoloute Error for n_rating= 137  :  0.8046020258074819\n",
      "Mean Absoloute Error for n_rating= 138  :  0.7937832325995519\n",
      "Mean Absoloute Error for n_rating= 139  :  0.78080558149515\n",
      "Mean Absoloute Error for n_rating= 140  :  0.7988463799297512\n",
      "Mean Absoloute Error for n_rating= 141  :  0.7770719704392622\n",
      "Mean Absoloute Error for n_rating= 142  :  0.7997148325767222\n",
      "Mean Absoloute Error for n_rating= 143  :  0.7938169075629923\n",
      "Mean Absoloute Error for n_rating= 144  :  0.7694427316359965\n",
      "Mean Absoloute Error for n_rating= 145  :  0.8012068364652186\n",
      "Mean Absoloute Error for n_rating= 146  :  0.7798158417245421\n",
      "Mean Absoloute Error for n_rating= 147  :  0.7910860893672785\n",
      "Mean Absoloute Error for n_rating= 148  :  0.7913579176534371\n",
      "Mean Absoloute Error for n_rating= 149  :  0.7726122401092581\n",
      "Mean Absoloute Error for n_rating= 150  :  0.800339465982295\n",
      "Mean Absoloute Error for n_rating= 151  :  0.7856505346903851\n",
      "Mean Absoloute Error for n_rating= 152  :  0.7694638486799056\n",
      "Mean Absoloute Error for n_rating= 153  :  0.7687994057462665\n",
      "Mean Absoloute Error for n_rating= 154  :  0.7920799579967709\n",
      "Mean Absoloute Error for n_rating= 155  :  0.7661001250598466\n",
      "Mean Absoloute Error for n_rating= 156  :  0.7830301719624813\n",
      "Mean Absoloute Error for n_rating= 157  :  0.7766828801732634\n",
      "Mean Absoloute Error for n_rating= 158  :  0.7581325996812527\n",
      "Mean Absoloute Error for n_rating= 159  :  0.7622646343680747\n",
      "Mean Absoloute Error for n_rating= 160  :  0.7908446359100247\n",
      "Mean Absoloute Error for n_rating= 161  :  0.7573825331463027\n",
      "Mean Absoloute Error for n_rating= 162  :  0.7911232350195779\n",
      "Mean Absoloute Error for n_rating= 163  :  0.7852239872393251\n",
      "Mean Absoloute Error for n_rating= 164  :  0.7853485413269082\n",
      "Mean Absoloute Error for n_rating= 165  :  0.780852482455253\n",
      "Mean Absoloute Error for n_rating= 166  :  0.7853469806569329\n",
      "Mean Absoloute Error for n_rating= 167  :  0.7976817757938617\n",
      "Mean Absoloute Error for n_rating= 168  :  0.7843223062858732\n",
      "Mean Absoloute Error for n_rating= 169  :  0.7854414433320981\n",
      "Mean Absoloute Error for n_rating= 170  :  0.7857160632290234\n",
      "Mean Absoloute Error for n_rating= 171  :  0.7960170349681338\n",
      "Mean Absoloute Error for n_rating= 172  :  0.7850655843544888\n",
      "Mean Absoloute Error for n_rating= 173  :  0.7576163821567823\n",
      "Mean Absoloute Error for n_rating= 174  :  0.7760068172288118\n",
      "Mean Absoloute Error for n_rating= 175  :  0.7833648634830043\n",
      "Mean Absoloute Error for n_rating= 176  :  0.7828759804699367\n",
      "Mean Absoloute Error for n_rating= 177  :  0.7861585947077533\n",
      "Mean Absoloute Error for n_rating= 178  :  0.7881674660678296\n",
      "Mean Absoloute Error for n_rating= 179  :  0.7625916001519741\n",
      "Mean Absoloute Error for n_rating= 180  :  0.7758305816340636\n",
      "Mean Absoloute Error for n_rating= 181  :  0.7882142297212\n",
      "Mean Absoloute Error for n_rating= 182  :  0.7928204187131043\n",
      "Mean Absoloute Error for n_rating= 183  :  0.7796580904491501\n",
      "Mean Absoloute Error for n_rating= 184  :  0.7647091456864811\n",
      "Mean Absoloute Error for n_rating= 185  :  0.7576567985488393\n",
      "Mean Absoloute Error for n_rating= 186  :  0.7851420414533585\n",
      "Mean Absoloute Error for n_rating= 187  :  0.7300303341596008\n",
      "Mean Absoloute Error for n_rating= 188  :  0.7683911172299424\n",
      "Mean Absoloute Error for n_rating= 189  :  0.7823944091809205\n",
      "Mean Absoloute Error for n_rating= 190  :  0.7973755299107658\n",
      "Mean Absoloute Error for n_rating= 191  :  0.78345468862674\n",
      "Mean Absoloute Error for n_rating= 192  :  0.7934710520648566\n",
      "Mean Absoloute Error for n_rating= 193  :  0.7911832191218209\n",
      "Mean Absoloute Error for n_rating= 194  :  0.7915511764483059\n",
      "Mean Absoloute Error for n_rating= 195  :  0.7788202478446015\n",
      "Mean Absoloute Error for n_rating= 196  :  0.7805317365059407\n",
      "Mean Absoloute Error for n_rating= 197  :  0.7777539873612227\n",
      "Mean Absoloute Error for n_rating= 198  :  0.7427711429342478\n",
      "Mean Absoloute Error for n_rating= 199  :  0.7983484688093224\n",
      "Mean Absoloute Error for n_rating= 200  :  0.7845531830408387\n",
      "Minimum MAE: 0.7300303341596008 at n ratings = 187\n"
     ]
    },
    {
     "data": {
      "image/png": "[encoded data removed]",
      "text/plain": [
       "<Figure size 720x144 with 1 Axes>"
      ]
     },
     "metadata": {
      "needs_background": "light"
     },
     "output_type": "display_data"
    }
   ],
   "source": [
    "ratmat = np.mat(df_ratmat)\n",
    "find_minimum_N_rating_needed(app, ratmat, 10)"
   ]
  },
  {
   "cell_type": "markdown",
   "metadata": {},
   "source": [
    "### According to above result, with some outlier at minimum value, overall MAE graph show stable inclination from the beginning thru 100. After this number, the results are not converge nor showing clear pattern of decrement. So I think 80~100 is a good number of ratings it can estimate the rating reliably."
   ]
  }
 ],
 "metadata": {
  "kernelspec": {
   "display_name": "Python 3",
   "language": "python",
   "name": "python3"
  },
  "language_info": {
   "codemirror_mode": {
    "name": "ipython",
    "version": 3
   },
   "file_extension": ".py",
   "mimetype": "text/x-python",
   "name": "python",
   "nbconvert_exporter": "python",
   "pygments_lexer": "ipython3",
   "version": "3.8.5"
  }
 },
 "nbformat": 4,
 "nbformat_minor": 4
}
